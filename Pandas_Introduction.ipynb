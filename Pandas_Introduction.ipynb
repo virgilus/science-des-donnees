{
 "cells": [
  {
   "cell_type": "markdown",
   "id": "ff6cd0b6-c64d-4f8e-84ac-f78ae6988b87",
   "metadata": {
    "tags": [
     "fr"
    ]
   },
   "source": [
    "# Introduction à Pandas 🐼\n",
    "\n",
    "📖 **Pandas 🐼** est une bibliothèque Python 🐍 créée par dessus la bibliothèque **Numpy** par **Wes McKinney** en 2007 et qui est devenue open source à la fin de 2009. Elle est largement utilisée dans les domaines de la science des données, du *machine learning* (apprentissage automatique) et de l'analyse de données. Le nom est dérivé du terme **\"PANel DAta\"**, un terme d'économétrie qui désigne des suivis de cohorte d'individus. ([wikipedia](https://en.wikipedia.org/wiki/Pandas_(software)))\n",
    "\n",
    "**Pandas 🐼** fonctionne bien en collaboration avec d'autres bibliothèques telles que **Matplotlib / Seaborn** et, bien sûr, **Numpy**."
   ]
  },
  {
   "cell_type": "markdown",
   "id": "b5dc562f-6c3f-4990-876d-5a7ed2eb0292",
   "metadata": {
    "tags": []
   },
   "source": [
    "<img src=\"files/pandas_numpy_matplotlib_seaborn.png\" width=\"100%\" align=\"center\">"
   ]
  },
  {
   "cell_type": "code",
   "execution_count": null,
   "id": "12f9db81-31fe-4489-a401-1ab5e94f2e8d",
   "metadata": {
    "tags": []
   },
   "outputs": [],
   "source": [
    "import pandas as pd # We'll use pd as the alias\n",
    "import numpy as np # and np as alias for numpy"
   ]
  },
  {
   "cell_type": "markdown",
   "id": "356550c8-a4b5-4831-b863-74a7bd0acfe9",
   "metadata": {
    "tags": [
     "fr"
    ]
   },
   "source": [
    "# Series\n",
    "\n",
    "## Définition\n",
    "\n",
    "📖 En Pandas 🐼 l'équivalent d'un 1-D array numpy est appelé une \"Series\", qu'on appelle aussi souvent \"colonne\". Cet objet est très similaire à un array numpy, d'ailleurs il est justement construit par dessus les array numpy. C'est pour cela qu'ils partagent un certain nombre de caractéristiques. En effet, comme dans un array numpy, une Series : \n",
    "\n",
    "- Peut être vide ou bien comporter des **valeurs**.\n",
    "- Possède un **dtype** (*data type*) - mais gère mieux les cas où les données présentes dans la Series sont de différents types.\n",
    "\n",
    "Cependant les Series diffèrent des array numpy puisqu'elles possèdent quelque chose de nouveau :\n",
    "\n",
    "- Un **index**, qui associe une valeur, souvent unique mais pas nécessairement, à chaque entrée."
   ]
  },
  {
   "cell_type": "code",
   "execution_count": null,
   "id": "c21b1933-6634-44cc-8b1b-e797f5951dd0",
   "metadata": {
    "tags": []
   },
   "outputs": [],
   "source": [
    "# Creating a Series from a list:\n",
    "s = pd.Series([87, 23, 12, 43, 52, 61])\n",
    "s"
   ]
  },
  {
   "cell_type": "code",
   "execution_count": null,
   "id": "08ac7d67-01ac-40c0-9717-45b65ca34dd4",
   "metadata": {
    "tags": []
   },
   "outputs": [],
   "source": [
    "# To access an element, we can use Numpy syntax.\n",
    "s[0]"
   ]
  },
  {
   "cell_type": "code",
   "execution_count": null,
   "id": "77a3267d-b57b-4036-b607-7f14d8d51f86",
   "metadata": {
    "tags": []
   },
   "outputs": [],
   "source": [
    "s[5]"
   ]
  },
  {
   "cell_type": "markdown",
   "id": "65804882-4dd1-4660-89e0-315b820db31b",
   "metadata": {
    "jp-MarkdownHeadingCollapsed": true,
    "tags": [
     "fr"
    ]
   },
   "source": [
    "## Index et Series\n",
    "\n",
    "Nous pouvons laisser Pandas 🐼 créer l'index, comme dans l'exemple précédent, ou bien en spécifier un nous-mêmes à l'aide de la syntaxe suivante :"
   ]
  },
  {
   "cell_type": "code",
   "execution_count": null,
   "id": "043f5c9c-dd78-424a-8e2f-d5e9e10a5e05",
   "metadata": {
    "tags": []
   },
   "outputs": [],
   "source": [
    "# Using a list for values and a list for index\n",
    "s = pd.Series([87, 23, 12, 43, 52, 61], index=[100, 102, 104, 106, 108, 110])\n",
    "s"
   ]
  },
  {
   "cell_type": "code",
   "execution_count": null,
   "id": "58f501db-6f2f-4e28-ac99-6f372efc7e59",
   "metadata": {
    "tags": []
   },
   "outputs": [],
   "source": [
    "# or we can provide a dictionary, index is the key, value is value.\n",
    "s = pd.Series({100: 87, 102: 23, 104: 12, 106: 43, 108: 52, 110: 61})\n",
    "s"
   ]
  },
  {
   "cell_type": "code",
   "execution_count": null,
   "id": "7c7dd9ef-b529-4f33-a7e7-fa515da9dae8",
   "metadata": {
    "tags": []
   },
   "outputs": [],
   "source": [
    "# Accessing an element with the new index\n",
    "s[100]"
   ]
  },
  {
   "cell_type": "code",
   "execution_count": null,
   "id": "561fe285-adb5-48d8-aa7b-a84892bd83d6",
   "metadata": {
    "tags": []
   },
   "outputs": [],
   "source": [
    "s[110]"
   ]
  },
  {
   "cell_type": "code",
   "execution_count": null,
   "id": "1013b7bd-e219-4c11-9030-fa67e502cbd6",
   "metadata": {
    "tags": []
   },
   "outputs": [],
   "source": [
    "# We can also set strings as index\n",
    "# And index doesn't have to be unique.\n",
    "s = pd.Series([87, 23, 12, 43, 52, 61], index=['Group 1', 'Group 2', 'Group 2', 'Group 2', 'Group 1', 'Group 3'])\n",
    "s"
   ]
  },
  {
   "cell_type": "code",
   "execution_count": null,
   "id": "22df98fd-fe68-4f1b-a70e-523501c168df",
   "metadata": {
    "tags": []
   },
   "outputs": [],
   "source": [
    "# Accessing one or several elements using the new index\n",
    "s['Group 1']"
   ]
  },
  {
   "cell_type": "code",
   "execution_count": null,
   "id": "3d97b0cd-5097-4b42-8067-e936a78c5e76",
   "metadata": {
    "tags": []
   },
   "outputs": [],
   "source": [
    "s['Group 2']"
   ]
  },
  {
   "cell_type": "markdown",
   "id": "a2a413ae-f71f-4259-b5d6-93a7a549ca86",
   "metadata": {
    "tags": [
     "fr"
    ]
   },
   "source": [
    "# DataFrame\n",
    "\n",
    "📖 Un *DataFrame* est une structure de données bidimensionnelle aisément manipulable qui sert à stocker en mémoire et manipuler des données en Python 🐍 via Pandas 🐼. C'est une **collection de Series** (un ensemble organisé de Series).\n",
    "\n",
    "Quelques caractéristiques clés d'un DataFrame Pandas 🐼 :\n",
    "\n",
    "- **Bidimensionnel** : Un DataFrame est souvent comparé à une feuille de calcul ou à une table SQL, car il organise les données en lignes et en colonnes, il ne traite donc que des données en deux dimensions.\n",
    "\n",
    "- **Taille modifiable** : Vous pouvez ajouter ou supprimer des lignes et des colonnes d'un DataFrame.\n",
    "\n",
    "- **Axes nommés** : Les lignes (axe 0) et les colonnes (axe 1) ont des \"labels\" (des noms), permettant une identification et un indexage faciles des données.\n",
    "\n",
    "- **Opérations** : Les DataFrames prennent en charge une large gamme d'opérations sur les données, notamment le filtrage, le regroupement, l'agrégation, le pivotement, la fusion (*merge*), la jointure etc.\n",
    "\n",
    "- **Et bien plus... !**: Gérer les valeurs manquantes, exporter les données sous de nombreux formats etc."
   ]
  },
  {
   "cell_type": "markdown",
   "id": "c5d2a22d-f970-4c7a-8570-8468ddd2d4b0",
   "metadata": {
    "tags": []
   },
   "source": [
    "<img src=\"files/series-and-dataframe.png\" width=\"50%\" align=\"center\">"
   ]
  },
  {
   "cell_type": "code",
   "execution_count": null,
   "id": "34a65d70-a7fa-4dcf-a04b-eedf1b0bf33c",
   "metadata": {
    "tags": []
   },
   "outputs": [],
   "source": [
    "s1 = pd.Series([87, 23, 12, 43, 52, 61])\n",
    "s2 = pd.Series([100, 52, 35, 71, 62, 89])\n",
    "s3 = pd.Series(['m', 'f', 'm', 'm', 'f', 'f'])\n",
    "\n",
    "# There are multiple ways to create a dataframe from Series.\n",
    "# Let's go with a dictionary. Keys are column names and values are... values!\n",
    "\n",
    "pd.DataFrame({'age': s1, 'weight': s2, 'sex': s3}) # In Jupyter the display of a Dataframe is different from a Series."
   ]
  },
  {
   "cell_type": "markdown",
   "id": "23c6e1d3-ae86-4067-920e-89a9943f930b",
   "metadata": {
    "tags": [
     "fr"
    ]
   },
   "source": [
    "## Création d'un DataFrame\n",
    "\n",
    "📖 Pandas 🐼 peut créer des DataFrames à partir de nombreux formats de fichier différents, notamment :\n",
    "\n",
    "- CSV (valeurs séparées par des virgules)\n",
    "- Excel (XLS et XLSX)\n",
    "- JSON (JavaScript Object Notation)\n",
    "- HTML (tables)\n",
    "- SQL (bases de données)\n",
    "- Parquet\n",
    "- HDF5 (format de données hiérarchique)\n",
    "- Feather\n",
    "- Stata\n",
    "- SAS\n",
    "- Google BigQuery\n",
    "- Presse-papiers (ctrl + c)\n",
    "- Dictionnaires Python 🐍\n",
    "- URLs (HTTP, FTP, etc.)\n",
    "- ... Et bien d'autres"
   ]
  },
  {
   "cell_type": "markdown",
   "id": "da44200a-b319-4d00-ad0c-3376d8fc6e9c",
   "metadata": {
    "tags": [
     "fr"
    ]
   },
   "source": [
    "## Jeu de données fictif\n",
    "\n",
    "👉 Créons un DataFrame à partir d'un fichier CSV stocké dans le dossier \"data\" et nommé \"fake.csv\". Durant ce notebook nous utiliserons ce jeu de données fictif pour illustrer certaines des fonctions de Pandas 🐼. Stockons-le dans une variable nommée : **\"fake_df\"**.\n",
    "\n",
    "**Note** : Ici, nous utilisons une convention de dénomination appelée **\"notation hongroise suffixée\"**, signifiant que le type de l'objet est inclus à la fin de son nom. Et, bien sûr, \"df\" est l'abréviation de \"DataFrame\"."
   ]
  },
  {
   "cell_type": "code",
   "execution_count": null,
   "id": "b012afd5-eaa6-4694-a99a-b3586d7d6e26",
   "metadata": {
    "tags": []
   },
   "outputs": [],
   "source": [
    "fake_df = pd.read_csv(\"data/fake.csv\")\n",
    "\n",
    "fake_df"
   ]
  },
  {
   "cell_type": "markdown",
   "id": "8fbac3c9-7b7b-4847-a330-4f897614de7c",
   "metadata": {
    "tags": [
     "fr"
    ]
   },
   "source": [
    "🔎 Si vous exécutez la cellule ci-dessus, vous pouvez immédiatement voir que \"fake_df\" est un **DataFrame** : les noms de colonnes et l'index sont en gras. Et si vous survolez le DataFrame avec la souris, les lignes sont mises en surbrillance."
   ]
  },
  {
   "cell_type": "markdown",
   "id": "10614789-8eea-465e-8ee4-2fdd1ffbecb1",
   "metadata": {
    "tags": [
     "fr"
    ]
   },
   "source": [
    "# Le dataset sur les pays\n",
    "\n",
    "## Présentation\n",
    "\n",
    "📖 Durant ce tutorial nous allons utiliser un dataset très connu qui consiste en un seul fichier nommé \"countries.csv\" et comporte un grand nombre de différentes statistiques sur les pays (en 2013).\n",
    "\n",
    "## Objectifs\n",
    "\n",
    "Nous utiliserons ce fichier pour examiner si il existe une corrélation entre quatre variables :\n",
    "\n",
    "- La densité de population (exprimée en Km²), que nous allons devoir calculer.\n",
    "- Le PIB par habitant\n",
    "- Le taux de natalité\n",
    "- Le taux de mortalité\n",
    "\n",
    "Et ce à deux niveaux de lecture différent : au **niveau des pays** et au **niveau de la région** à laquelle chque pays appartient.\n",
    "\n",
    "Nous examinerons également si la durée de leur adhésion à l'ONU, si toutefois ils en sont membres, influe sur nos variables à expliquer.\n",
    "\n",
    "Mais avant de parvenir à ce résultat, il va nous falloir comprendre et nettoyer ce jeu de données."
   ]
  },
  {
   "cell_type": "markdown",
   "id": "39b40ee9-1a5e-47bb-a243-56fd3d4dfb87",
   "metadata": {
    "tags": [
     "fr"
    ]
   },
   "source": [
    "## Lecture d'un fichier CSV : \"countries.csv\"\n",
    "\n",
    "❓ **>>>** Utilisez la fonction ``pd.read_csv()`` pour lire le fichier CSV nommé \"countries.csv\", qui se trouve à l'intérieur du dossier \"data\". Stockez le résultat dans un nouveau DataFrame nommé \"df\".\n",
    "\n",
    "Si vous essayez de lire un fichier CSV et que Pandas 🐼 renvoie une erreur, ouvrez le fichier avec Jupyter Lab ou un éditeur de texte (VS Code, Notepad++, etc.) et examinez-le pour trouver la source de l'erreur. Les erreurs les plus courantes lors de la lecture d'un fichier CSV sont :\n",
    "\n",
    "- Le **chemin du fichier** n'a pas été correctement fourni à la fonction. La manière la plus simple est de déplacer le fichier que vous souhaitez lire dans le même répertoire que votre fichier de notebook (ou dans un sous-dossier nommé \"data\").\n",
    "\n",
    "- Un **séparateur de champ** incorrect, par défaut Pandas 🐼 suppose que c'est le caractère \",\". Dans ce cas, spécifiez le séparateur avec l'argument \"sep\".\n",
    "\n",
    "- Un **\"quotechar\"** incorrect, un caractère utilisé pour indiquer le début et la fin d'un élément entre guillemets. Les éléments entre guillemets peuvent inclure le séparateur et il sera ignoré. Dans ce cas, spécifiez-le avec l'argument \"quotechar\".\n",
    "\n",
    "- La présence de **lignes supplémentaires** au début ou à la fin du fichier. Dans ce cas, utilisez les arguments \"skiprows\" ou \"skipfooter\" pour ignorer ces lignes.\n",
    "\n",
    "- Un **encodage de fichier** incorrect. La norme \"utf-8\" est la plus courante, mais parfois les fichiers sont dans d'autres formats comme \"cp1252\" par exemple. Dans ce cas, spécifiez l'encodage avec l'argument \"encoding\". Indice : ici le fichier est déjà encodé en utf-8, ce ne sera pas l'encodage qui posera problème.\n",
    "\n",
    "**NOTE** : **NE** pas ouvrir le fichier avec le logiciel \"Excel\", cela peut corrompre votre fichier et le rendre illisible, même si vous ne sauvegardez pas les modifications."
   ]
  },
  {
   "cell_type": "code",
   "execution_count": null,
   "id": "6f91dd39-4729-4510-8fd4-22bd2bcafcc7",
   "metadata": {},
   "outputs": [],
   "source": [
    "# Code here !\n"
   ]
  },
  {
   "cell_type": "markdown",
   "id": "4838a05e-2c19-44d3-80f7-2aa8e7db99d4",
   "metadata": {
    "tags": [
     "fr"
    ]
   },
   "source": [
    "# Premières actions à effectuer\n",
    "\n",
    "## La propriété `.shape`\n",
    "\n",
    "🔎 Nous avons maintenant deux DataFrames, \"fake_df\" et \"df\". Jetons un coup d'œil à leur forme."
   ]
  },
  {
   "cell_type": "code",
   "execution_count": null,
   "id": "3c8952bb-2e50-461a-8f0d-a2407415534d",
   "metadata": {
    "tags": []
   },
   "outputs": [],
   "source": [
    "fake_df.shape"
   ]
  },
  {
   "cell_type": "markdown",
   "id": "842d2fb4-08d5-4def-8f8e-70043c4ba80f",
   "metadata": {
    "tags": [
     "fr"
    ]
   },
   "source": [
    "❓ **>>>** Quelle est la forme (la \"shape\") de notre df ? Qu'est-ce que cela signifie ?"
   ]
  },
  {
   "cell_type": "code",
   "execution_count": null,
   "id": "c2375ac7-975b-4392-86bf-dec8900ed68a",
   "metadata": {
    "tags": []
   },
   "outputs": [],
   "source": [
    "# Code here!\n"
   ]
  },
  {
   "cell_type": "markdown",
   "id": "452f7258-4f4d-4731-8efa-d2994ec57523",
   "metadata": {
    "tags": [
     "fr"
    ]
   },
   "source": [
    "## La fonction ``.head()``\n",
    "\n",
    "Elle renvoie les n premières lignes, la valeur par défaut étant fixée à 5."
   ]
  },
  {
   "cell_type": "code",
   "execution_count": null,
   "id": "6765fb02-2c49-4b7b-96b2-91c6ae7b1cb7",
   "metadata": {
    "tags": []
   },
   "outputs": [],
   "source": [
    "fake_df.head()"
   ]
  },
  {
   "cell_type": "markdown",
   "id": "f3590355-b812-41cf-bb06-3d1d446d9ff1",
   "metadata": {
    "tags": [
     "fr"
    ]
   },
   "source": [
    "❓ **>>>** Utilisez la fonction ``.head()`` pour afficher les deux premières lignes de notre dataframe."
   ]
  },
  {
   "cell_type": "code",
   "execution_count": null,
   "id": "b7116b0b-f256-4ed2-9f77-018f6cf13717",
   "metadata": {
    "tags": []
   },
   "outputs": [],
   "source": [
    "# Code here!\n"
   ]
  },
  {
   "cell_type": "markdown",
   "id": "d325e909-698d-4091-a5c6-c1a23298b40a",
   "metadata": {
    "tags": [
     "fr"
    ]
   },
   "source": [
    "## La propriété `.columns`\n",
    "\n",
    "Elle stocke les noms de nos différentes colonnes. C'est également l'index des colonnes."
   ]
  },
  {
   "cell_type": "code",
   "execution_count": null,
   "id": "9417547b-1377-4feb-8d45-a9a43881d72a",
   "metadata": {
    "tags": []
   },
   "outputs": [],
   "source": [
    "fake_df.columns"
   ]
  },
  {
   "cell_type": "markdown",
   "id": "f5489587-1338-4ee2-8cf7-12b643113dae",
   "metadata": {
    "tags": [
     "fr"
    ]
   },
   "source": [
    "❓ **>>>** Quelles sont les colonnes de notre DataFrame ? Utilisez une boucle ``for`` pour imprimer le nom de chaque colonne sur une ligne différente."
   ]
  },
  {
   "cell_type": "code",
   "execution_count": null,
   "id": "120bb727-0a58-4f3d-a0f8-5d8111daa4b0",
   "metadata": {
    "tags": []
   },
   "outputs": [],
   "source": [
    "# Code here!\n"
   ]
  },
  {
   "cell_type": "markdown",
   "id": "112f334c-7234-45f0-a8df-2f6687d3c419",
   "metadata": {
    "tags": [
     "fr"
    ]
   },
   "source": [
    "## La propriété `.index`\n",
    "\n",
    "Elle stocke les noms des lignes (l'index)."
   ]
  },
  {
   "cell_type": "markdown",
   "id": "c6937b5a-0682-4def-95e9-ab01535c2fa2",
   "metadata": {
    "tags": [
     "fr"
    ]
   },
   "source": [
    "❓ **>>>** Quel est l'index de notre DataFrame ?"
   ]
  },
  {
   "cell_type": "code",
   "execution_count": null,
   "id": "434b439f-f3fa-4652-8407-54642c813f79",
   "metadata": {
    "tags": []
   },
   "outputs": [],
   "source": [
    "# Code here!\n"
   ]
  },
  {
   "cell_type": "markdown",
   "id": "a30a85d4-7576-4e3f-a858-c83d3834e6e4",
   "metadata": {
    "tags": [
     "fr"
    ]
   },
   "source": [
    "## La propriété `.dtypes`\n",
    "\n",
    "Le mot `dtypes` signifie \"data types\", il stocke les types de nos différentes colonnes. Le type \"object\" est souvent une chaîne de caractères."
   ]
  },
  {
   "cell_type": "code",
   "execution_count": null,
   "id": "bfe080a4-de3a-424c-9073-1058ea906151",
   "metadata": {
    "tags": []
   },
   "outputs": [],
   "source": [
    "fake_df.dtypes"
   ]
  },
  {
   "cell_type": "markdown",
   "id": "ff04ac03-722a-4f51-a72b-591a79e7c043",
   "metadata": {
    "tags": [
     "fr"
    ]
   },
   "source": [
    "❓ **>>>** Quels sont les \"dtypes\" de notre df ?"
   ]
  },
  {
   "cell_type": "code",
   "execution_count": null,
   "id": "b09233a4-27b2-4315-837a-8ab0c9e5bfcc",
   "metadata": {
    "tags": []
   },
   "outputs": [],
   "source": [
    "# Code here!\n"
   ]
  },
  {
   "cell_type": "markdown",
   "id": "24fbb3b9-3f76-4d01-af41-609d0b16dc7b",
   "metadata": {
    "tags": [
     "fr"
    ]
   },
   "source": [
    "## Valeurs manquantes : la méthode `.isna()`\n",
    "\n",
    "Lorsque vous analysez un nouveau jeu de données, il est très important de vérifier s'il y a des valeurs manquantes. Vous pouvez utiliser la méthode ``.isna()``, elle renvoie un nouveau DataFrame qui a la même taille que le DataFrame d'origine, mais les valeurs sont ``True`` si la valeur est manquante et ``False`` si une valeur existe.\n",
    "\n",
    "💡 C'est l'une des principales forces de Python 🐍 : le résultat de nombreuses fonctions de Pandas 🐼 sont également des objets Pandas 🐼, ce qui signifie que vous pouvez travailler sur vos données ou vos résultats à l'aide des mêmes fonctions."
   ]
  },
  {
   "cell_type": "code",
   "execution_count": null,
   "id": "c5d63f96-8ee1-4257-bd7c-037d7ecc1a45",
   "metadata": {
    "tags": []
   },
   "outputs": [],
   "source": [
    "fake_df.isna()"
   ]
  },
  {
   "cell_type": "markdown",
   "id": "36609a79-2fd6-4ad6-beae-be5442ca69d1",
   "metadata": {
    "tags": [
     "fr"
    ]
   },
   "source": [
    "❓ **>>>** Utilisez ``.isna()`` sur notre df."
   ]
  },
  {
   "cell_type": "code",
   "execution_count": null,
   "id": "f16da66f-16e2-42ca-ab84-1817f19d6eba",
   "metadata": {},
   "outputs": [],
   "source": [
    "# Code here\n"
   ]
  },
  {
   "cell_type": "markdown",
   "id": "897c65a8-01f5-4e2d-a70f-f2d383a2936c",
   "metadata": {
    "tags": [
     "fr"
    ]
   },
   "source": [
    "## Appliquer une fonction à un DataFrame : ``isna().sum()``\n",
    "\n",
    "La méthode ``.sum()`` effectue une somme sur l'ensemble d'un DataFrame. Lorsque vous effectuez des sommes, les valeurs booléennes sont traitées comme 1 si elles sont ``True`` et 0 si elles sont ``False``."
   ]
  },
  {
   "cell_type": "code",
   "execution_count": null,
   "id": "0aaf90c2-551b-4179-99c2-24a5c33efe96",
   "metadata": {
    "tags": []
   },
   "outputs": [],
   "source": [
    "fake_df.isna().sum()"
   ]
  },
  {
   "cell_type": "markdown",
   "id": "57001d1c-4023-4226-b94e-7a17ef0b0cbb",
   "metadata": {
    "tags": [
     "fr"
    ]
   },
   "source": [
    "❓ **>>>** Combien de valeurs manquantes dans notre DataFrame ?"
   ]
  },
  {
   "cell_type": "code",
   "execution_count": null,
   "id": "3b9b8df2-a36e-4e29-bea0-1970528a7c68",
   "metadata": {},
   "outputs": [],
   "source": [
    "# Code here!\n"
   ]
  },
  {
   "cell_type": "markdown",
   "id": "b02125bd-9a3f-4213-8b17-141d2ebd5c08",
   "metadata": {
    "tags": [
     "fr"
    ]
   },
   "source": [
    "## Création ou remplacement de Series\n",
    "\n",
    "Tout comme un dictionnaire, pour créer ou remplacer une Series, il vous suffit de lui attribuer une valeur ou un objet (liste, dictionnaire...)."
   ]
  },
  {
   "cell_type": "code",
   "execution_count": null,
   "id": "b9525759-4c0d-48fa-acfa-a0b23131b144",
   "metadata": {
    "tags": []
   },
   "outputs": [],
   "source": [
    "fake_df['one'] = 1\n",
    "fake_df"
   ]
  },
  {
   "cell_type": "code",
   "execution_count": null,
   "id": "e175db06-f1f6-4d4d-b5b8-9ec227d68687",
   "metadata": {
    "tags": []
   },
   "outputs": [],
   "source": [
    "fake_df['one'] = 999\n",
    "fake_df"
   ]
  },
  {
   "cell_type": "code",
   "execution_count": null,
   "id": "fd5ec72a-d3db-4149-835c-d835a087ccd5",
   "metadata": {
    "tags": []
   },
   "outputs": [],
   "source": [
    "fake_df[['one', 'two']] = 1\n",
    "fake_df"
   ]
  },
  {
   "cell_type": "code",
   "execution_count": null,
   "id": "9778e2da-4d75-4ec1-8d75-1e872b63c2ac",
   "metadata": {
    "tags": []
   },
   "outputs": [],
   "source": [
    "fake_df[['one', 'two']] = 1, 2 # An implicit tuple\n",
    "fake_df"
   ]
  },
  {
   "cell_type": "code",
   "execution_count": null,
   "id": "67319b7e-ba24-4a02-b411-6ad5259198c3",
   "metadata": {
    "tags": []
   },
   "outputs": [],
   "source": [
    "fake_df['three'] = fake_df['one'] + fake_df['two']\n",
    "fake_df"
   ]
  },
  {
   "cell_type": "code",
   "execution_count": null,
   "id": "9f010a02-fbe0-496d-a763-ce22d1b7ee72",
   "metadata": {
    "tags": []
   },
   "outputs": [],
   "source": [
    "fake_df['count'] = [el for el in range(fake_df.shape[0])]\n",
    "fake_df"
   ]
  },
  {
   "cell_type": "markdown",
   "id": "d5cdf25b-ef15-4102-a3b3-dabeb4022973",
   "metadata": {
    "tags": [
     "fr"
    ]
   },
   "source": [
    "### Supprimer une Series\n",
    "\n",
    "Il existe plusieurs façons de \"supprimer\" (effacer / retirer) une Series de votre DataFrame, l'une des plus simples est d'utiliser la syntaxe suivante :"
   ]
  },
  {
   "cell_type": "code",
   "execution_count": null,
   "id": "60751b9e-d3a5-4e1d-9a7b-595844fe3173",
   "metadata": {
    "tags": []
   },
   "outputs": [],
   "source": [
    "fake_df.drop(columns='one') # This function is not \"in place\" which means we haven't modified \"fake_df\" yet."
   ]
  },
  {
   "cell_type": "code",
   "execution_count": null,
   "id": "4608925c-518b-4335-9910-40933ed2bff2",
   "metadata": {},
   "outputs": [],
   "source": [
    "# If we're happy with the result\n",
    "# We can replace the old df with the new one\n",
    "fake_df = fake_df.drop(columns='one')"
   ]
  },
  {
   "cell_type": "markdown",
   "id": "89cdde1e-3e5f-4ce0-be5b-54caec4ef339",
   "metadata": {
    "tags": [
     "fr"
    ]
   },
   "source": [
    "❗️ **ATTENTION**❗️ Cette fois, nous ne remplaçons pas ou ne créons pas une **Series**, nous remplaçons l'ensemble du DataFrame !\n",
    "\n",
    "On peut très facilement se tromper. Heureusement, en cas d'erreur, il est également très facile de revenir en arrière et de réexécuter les cellules."
   ]
  },
  {
   "cell_type": "code",
   "execution_count": null,
   "id": "bc509bcc-4ace-43f1-a8b9-70da712de17d",
   "metadata": {
    "tags": []
   },
   "outputs": [],
   "source": [
    "# We can drop several columns by passing a list.\n",
    "fake_df.drop(columns=['two', 'three', 'count'])"
   ]
  },
  {
   "cell_type": "code",
   "execution_count": null,
   "id": "17afb14c-e8e5-4679-9751-db6ac515bf7f",
   "metadata": {
    "tags": []
   },
   "outputs": [],
   "source": [
    "# If we're happy with the result\n",
    "# We can replace the old df with the new one\n",
    "fake_df = fake_df.drop(columns=['two', 'three', 'count'])"
   ]
  },
  {
   "cell_type": "markdown",
   "id": "f4f3f608-a468-44cc-be35-6e5eef4f2dad",
   "metadata": {
    "tags": [
     "fr"
    ]
   },
   "source": [
    "❓ **>>>** \"Slicez\" la colonne \"country\" de votre DataFrame et affichez la Series qui lui correspond. **Astuce**: Vous pouvez utiliser la touche \"tab\" du clavier pour l'autocomplétion."
   ]
  },
  {
   "cell_type": "code",
   "execution_count": null,
   "id": "7d08193a-3eeb-4115-b30c-c48ba89887d4",
   "metadata": {},
   "outputs": [],
   "source": [
    "# Code here!\n"
   ]
  },
  {
   "cell_type": "markdown",
   "id": "f90c5553-bd14-420a-906d-6ae592e37d84",
   "metadata": {
    "tags": [
     "fr"
    ]
   },
   "source": [
    "# Traitement des données"
   ]
  },
  {
   "cell_type": "markdown",
   "id": "ff763b09-916f-43eb-997a-ca3b6ca8ee9d",
   "metadata": {
    "tags": [
     "fr"
    ]
   },
   "source": [
    "## Définir les bons types de données\n",
    "\n",
    "🤓 Maintenant que nous savons ce qu'est un DataFrame et une Series, et avant de commencer autre chose, il est important que nos Series soient converties dans le bon type."
   ]
  },
  {
   "cell_type": "code",
   "execution_count": null,
   "id": "dcc7ceb1-c9b9-43ac-941a-5e49e1802ab0",
   "metadata": {
    "tags": []
   },
   "outputs": [],
   "source": [
    "fake_df.dtypes"
   ]
  },
  {
   "cell_type": "markdown",
   "id": "84785e28-bb3e-4f01-b0d1-47a2fe2924f9",
   "metadata": {
    "tags": [
     "fr"
    ]
   },
   "source": [
    "### Conversion avec `.astype()`\n",
    "\n",
    "Il existe de nombreux types de dtype différents. Certains utilisent le format standard de Python 🐍, d'autres sont spécifiques à Pandas 🐼 et d'autres sont communs à plusieurs autres langages (PyArrow).\n",
    "\n",
    "Ici, utilisons soit :\n",
    "\n",
    "- `'string'` (qui est un type Pandas 🐼)\n",
    "- `'category'` (également un type Pandas 🐼)\n",
    "- `int` (type Python 🐍)\n",
    "- `float` (type Python 🐍)"
   ]
  },
  {
   "cell_type": "code",
   "execution_count": null,
   "id": "63de3106-fb53-4c58-8bbe-e21c3dc5df04",
   "metadata": {
    "tags": []
   },
   "outputs": [],
   "source": [
    "# One conversion\n",
    "fake_df['letter'].astype('category')"
   ]
  },
  {
   "cell_type": "code",
   "execution_count": null,
   "id": "4a2da2ed-076f-400f-81e7-fdac83d9d871",
   "metadata": {
    "tags": []
   },
   "outputs": [],
   "source": [
    "# Several conversions\n",
    "fake_df[['fruit', 'letter']].astype('category')"
   ]
  },
  {
   "cell_type": "code",
   "execution_count": null,
   "id": "54e62766-f253-4362-9e0c-586f65994450",
   "metadata": {
    "tags": []
   },
   "outputs": [],
   "source": [
    "# replacing old Series with new ones\n",
    "fake_df[['fruit', 'letter']] = fake_df[['fruit', 'letter']].astype('category')"
   ]
  },
  {
   "cell_type": "markdown",
   "id": "f208742b-0a09-4c9f-8e01-56cc114f99e9",
   "metadata": {
    "tags": [
     "fr"
    ]
   },
   "source": [
    "## Conversion avec une nouvelle importation\n",
    "\n",
    "La plupart du temps, la meilleure pratique est de définir les types de données lors de l'importation des données. Cela est particulièrement vrai lorsque nous travaillons avec de grandes bases de données, car les types de données tels que `category`, par exemple, utilisent moins de mémoire que les chaînes de caractères.\n",
    "\n",
    "- Lorsque vous utilisez la fonction `pd.read_csv()`, vous pouvez donner au paramètre `dtypes` un dictionnaire avec les noms de colonnes comme clés et les types de données comme valeurs. Vous pouvez soit saisir ce dictionnaire manuellement, soit utiliser une dictionnaire compréhensif pour générer un *template* (modèle), puis le modifier."
   ]
  },
  {
   "cell_type": "code",
   "execution_count": null,
   "id": "6c2151d5-18af-4b18-90e2-c756f2abc24d",
   "metadata": {
    "tags": []
   },
   "outputs": [],
   "source": [
    "{col : 'string' for col in fake_df.columns}"
   ]
  },
  {
   "cell_type": "code",
   "execution_count": null,
   "id": "3c7bc850-7926-470d-8148-197e0248875c",
   "metadata": {
    "tags": []
   },
   "outputs": [],
   "source": [
    "# copy / paste and edit:\n",
    "d = {'letter': 'category',\n",
    "     'fruit': 'category',\n",
    "     'value': 'float32',\n",
    "     'numbers_list': 'string',\n",
    "     'date': 'string'}\n",
    "\n",
    "fake_df = pd.read_csv(\"data/fake.csv\", dtype=d)\n",
    "fake_df.dtypes"
   ]
  },
  {
   "cell_type": "markdown",
   "id": "d2676ed5-e2b9-4763-8fef-7f63b925624d",
   "metadata": {
    "tags": [
     "fr"
    ]
   },
   "source": [
    "**Note**: Si une colonne n'est pas dans le dictionnaire donnée à la fonction `pd.read_csv()`, Python 🐍 essaiera d'inférer le type."
   ]
  },
  {
   "cell_type": "markdown",
   "id": "e0db38a2-8a7f-4a25-a78f-f17bd66398be",
   "metadata": {
    "tags": [
     "fr"
    ]
   },
   "source": [
    "## Sélection des colonnes au chargement\n",
    "\n",
    "La fonction ```pd.read_csv()``` possède un argument ```usecols```. Celui-ci permet de ne sélectionner que certaines colonnes lors de la lecture du fichier. Il prend comme paramètre une liste."
   ]
  },
  {
   "cell_type": "code",
   "execution_count": null,
   "id": "53f26001-e845-4c84-97d6-f25d70465232",
   "metadata": {
    "tags": []
   },
   "outputs": [],
   "source": [
    "d = {'letter': 'category',\n",
    "     'fruit': 'category',\n",
    "     'value': 'float32',\n",
    "     'numbers_list': 'string',\n",
    "     'date': 'string'}\n",
    "\n",
    "\n",
    "columns_to_load = ['letter', 'fruit','value', 'numbers_list', 'date']\n",
    "\n",
    "fake_df = pd.read_csv(\"data/fake.csv\",\n",
    "                      dtype=d,\n",
    "                      usecols=columns_to_load,\n",
    "                     )"
   ]
  },
  {
   "cell_type": "code",
   "execution_count": null,
   "id": "8c558a7e-5f76-4429-b564-f0e57fd0684c",
   "metadata": {
    "tags": []
   },
   "outputs": [],
   "source": [
    "d = {'letter': 'category',\n",
    "     'fruit': 'category',\n",
    "     'value': 'float32',\n",
    "     'numbers_list': 'string',\n",
    "     'date': 'string'}\n",
    "\n",
    "# Or you can use d.keys() !\n",
    "\n",
    "fake_df = pd.read_csv(\"data/fake.csv\",\n",
    "                      dtype=d,\n",
    "                      usecols=d.keys(),\n",
    "                     )"
   ]
  },
  {
   "cell_type": "markdown",
   "id": "766da848-78ff-42f3-8769-a4e717f68f27",
   "metadata": {
    "tags": [
     "fr"
    ]
   },
   "source": [
    "## Nouvelle importation du fichier \"countries.csv\"\n",
    "\n",
    "### Nombres décimaux : point ou virgule ?\n",
    "\n",
    "Certaines conventions utilisent un point pour séparer les décimales d'un nombre, d'autres utilisent la virgule. On peut préciser la convention à Pandas 🐼 pendant l'importation en donnant au paramètre \"decimal\" de la fonction ```pd.read_csv()``` le caractère ```'.'``` ou ```','```. Cela permettra à Pandas 🐼 d'inférer le bon type automatiquement.\n",
    "\n",
    "### Nouvelle importation\n",
    "\n",
    "❓ **>>>** Réimportez le df avec **les même paramètres qu'au début**, mais cette fois-ci utilisez également :\n",
    "\n",
    "- Le paramètre ```usecols``` pour ne charger que les colonnes suivantes :\n",
    "    - \"country\"\n",
    "    - \"region\"\n",
    "    - \"population\"\n",
    "    - \"area (km²)\"\n",
    "    - \"gdp ($ per capita)\"\n",
    "    - \"birthrate\"\n",
    "    - \"deathrate\"\n",
    "\n",
    "- Le paramètre ```dtype``` avec les bons types de données.\n",
    "\n",
    "    - \"country\" sera de type 'string'.\n",
    "    - \"region\" sera de type 'category'.\n",
    "    - \"population\" and \"area (km2)\" seront de type 'int64' (ou 'int32' si vous voulez économiser un peu de mémoire vive).\n",
    "    - \"gdp ($ per capita)\", \"birthrate\" et \"deathrate\" seront des float32.\n",
    "\n",
    "- Le paramètre ```decimal``` pour lui spécifier que le séparateur de décimal utilisé dans de fichier est ```','```."
   ]
  },
  {
   "cell_type": "code",
   "execution_count": null,
   "id": "094de256-7aa2-44c7-bc64-36f15e2633b7",
   "metadata": {},
   "outputs": [],
   "source": [
    "# Code here!\n"
   ]
  },
  {
   "cell_type": "raw",
   "id": "a870f361-b709-43b3-bc11-db67c64792e0",
   "metadata": {
    "tags": []
   },
   "source": [
    "# Checkpoint 1\n",
    "d = {'country': 'string', 'region': 'category'}\n",
    "df = pd.read_csv('data/df_checkpoint_1.csv', dtype=d)"
   ]
  },
  {
   "cell_type": "markdown",
   "id": "8d8cb9f2-39e3-4a37-b654-beda42ccd7bc",
   "metadata": {
    "tags": [
     "fr"
    ]
   },
   "source": [
    "## Calcul de la densité de population\n",
    "\n",
    "Maintenant que nos données sont propres, nous pouvons créer nos propres indicateurs.\n",
    "\n",
    "❓ **>>>** Créez une nouvelle série nommée \"density (per km²)\" qui calculera la densité de population pour chacun des pays. Arrondissez-la à un chiffre après la virgule.\n",
    "\n",
    "**Indice** : la fonction ```round()``` fonctionne aussi sur les Series !"
   ]
  },
  {
   "cell_type": "code",
   "execution_count": null,
   "id": "7f2b99a1-55b0-4094-a23f-50bca177c8e4",
   "metadata": {},
   "outputs": [],
   "source": [
    "# Code here!\n"
   ]
  },
  {
   "cell_type": "markdown",
   "id": "b4b49092-3b4d-422e-9b81-f148137a7fd0",
   "metadata": {
    "tags": [
     "fr"
    ]
   },
   "source": [
    "## Graphiques\n",
    "\n",
    "Revenons à notre fake_df. Vous pouvez générer un graphique à partir d'une Series de cette manière :"
   ]
  },
  {
   "cell_type": "code",
   "execution_count": null,
   "id": "eb61f2fe-2c90-46e5-8d50-1916d77c4e95",
   "metadata": {
    "tags": []
   },
   "outputs": [],
   "source": [
    "fake_df['value'].plot(); # Adding a semicolon removes useless legend\n",
    "# Note that line stops as soon as it encounters a missing value (NaN)"
   ]
  },
  {
   "cell_type": "code",
   "execution_count": null,
   "id": "0c45fd3b-a278-4461-9de7-1c8fefb8d27d",
   "metadata": {
    "tags": []
   },
   "outputs": [],
   "source": [
    "# You can specify what graph you want with the 'kind' parameter.\n",
    "# Let's use a bar graph first.\n",
    "# Bar graphs are usually used to plot categorical data.\n",
    "# As we want to plot the value for each row of our fake_df, this would work.\n",
    "\n",
    "fake_df['value'].plot(kind='bar');"
   ]
  },
  {
   "cell_type": "markdown",
   "id": "8b436cb8-7d73-4a1c-ba4c-5981ceb6c6cd",
   "metadata": {
    "tags": [
     "fr"
    ]
   },
   "source": [
    "👉 Ici l'axe des x est l'index de notre DataFrame. Recommençons, mais avec des catégories (les lettres) sur l'axe des x. Pour ce faire, vous pouvez utiliser ``.plot()`` directement sur un DataFrame, vous permettant de manipuler facilement plusieurs Series."
   ]
  },
  {
   "cell_type": "code",
   "execution_count": null,
   "id": "3050d33a-eee0-471c-8237-987faf10ecb5",
   "metadata": {
    "tags": []
   },
   "outputs": [],
   "source": [
    "fake_df.plot(x='letter', y='value', kind='bar');"
   ]
  },
  {
   "cell_type": "markdown",
   "id": "c9c02ba5-2252-47c8-b789-495f586cecde",
   "metadata": {
    "tags": [
     "fr"
    ]
   },
   "source": [
    "## La *Series* \"population\"\n",
    "\n",
    "❓ **>>>** Représentez sur un graphique de type 'bar', le pays en x et la population en y. Ne prenez que les 10 premiers pays afin que l'affichage soit correct. Pour cela vous pouvez slice votre df : ```df[:10]```"
   ]
  },
  {
   "cell_type": "code",
   "execution_count": null,
   "id": "5f947f80-bd8e-4e1b-960f-0013e1e01103",
   "metadata": {},
   "outputs": [],
   "source": [
    "# Code here!\n"
   ]
  },
  {
   "cell_type": "markdown",
   "id": "f0309b1a-12e4-45be-a845-fcac233d4dc8",
   "metadata": {
    "tags": [
     "fr"
    ]
   },
   "source": [
    "### Opérations sur les données numériques\n",
    "\n",
    "Les Series **'value'** dans *fake_df* et **'population'** dans *df* sont toutes deux des données numériques. Cela signifie que vous pouvez appliquer de nombreuses fonctions statistiques différentes sur elles :"
   ]
  },
  {
   "cell_type": "code",
   "execution_count": null,
   "id": "e9aa559c-f705-4cf8-9044-a7507e02bbad",
   "metadata": {
    "tags": []
   },
   "outputs": [],
   "source": [
    "fake_df['value'].mean()"
   ]
  },
  {
   "cell_type": "code",
   "execution_count": null,
   "id": "51097083-14fb-4d0a-b5f9-a43a347f52eb",
   "metadata": {
    "tags": []
   },
   "outputs": [],
   "source": [
    "fake_df['value'].median()"
   ]
  },
  {
   "cell_type": "code",
   "execution_count": null,
   "id": "d97435c2-3e68-4556-86d7-d15463bd155a",
   "metadata": {
    "tags": []
   },
   "outputs": [],
   "source": [
    "fake_df['value'].describe()"
   ]
  },
  {
   "cell_type": "markdown",
   "id": "e3b31348-c9d6-4bcb-b903-930d7e016c29",
   "metadata": {
    "tags": [
     "fr"
    ]
   },
   "source": [
    "❓ **>>>** Affichez des statistiques basiques sur la Series \"Population\". Vous pouvez convertir le résultats en entier avec `.astype(int)` pour retirer les décimales en trop."
   ]
  },
  {
   "cell_type": "code",
   "execution_count": null,
   "id": "646d00bc-4119-4799-a9c0-e4748cededa7",
   "metadata": {},
   "outputs": [],
   "source": [
    "# Code here!\n"
   ]
  },
  {
   "cell_type": "markdown",
   "id": "2bce6cea-dded-419e-864e-63aa2da5446f",
   "metadata": {
    "tags": [
     "fr"
    ]
   },
   "source": [
    "## Sélection de données avec Pandas 🐼 : les méthodes ``.iloc[]`` et ``.loc[]``\n",
    "\n",
    "Les méthodes `.iloc[]` et `.loc[]` dans Pandas 🐼 sont utilisées pour l'indexation et la sélection de lignes ou de colonnes dans les DataFrames.\n",
    "\n",
    "### La méthode ``.iloc[]`` (Sélection avec des entiers)\n",
    "\n",
    "La méthode ``.iloc[]`` est principalement utilisée pour la sélection des données avec des entiers.\n",
    "\n",
    "- Elle accepte une indexation basée sur des entiers pour les lignes et les colonnes.\n",
    "- L'indexation commence à zéro, similaire aux listes Python 🐍.\n",
    "- Vous pouvez utiliser des entiers, des *slices*, des listes ou des booléens pour sélectionner des données."
   ]
  },
  {
   "cell_type": "code",
   "execution_count": null,
   "id": "c35f01b8-a86c-4f05-a599-6c76a0695b39",
   "metadata": {
    "tags": []
   },
   "outputs": [],
   "source": [
    "fake_df.iloc[0]  # Select the first row\n",
    "# Note that it returns a Series, not a DataFrame."
   ]
  },
  {
   "cell_type": "code",
   "execution_count": null,
   "id": "e50d759b-2e2b-41de-888a-ce173aec7865",
   "metadata": {
    "tags": []
   },
   "outputs": [],
   "source": [
    "fake_df.iloc[2:5, 1:3]\n",
    "# Returns a DataFrame because they are several Series."
   ]
  },
  {
   "cell_type": "code",
   "execution_count": null,
   "id": "ec2b63cc-63f8-4005-b187-d4714da01e01",
   "metadata": {
    "tags": []
   },
   "outputs": [],
   "source": [
    "fake_df.iloc[[0, 3, 5], [1, 2]]  # Select specific rows and columns by integer positions"
   ]
  },
  {
   "cell_type": "code",
   "execution_count": null,
   "id": "20095383-60b7-4c17-9830-6487cacc3b2e",
   "metadata": {
    "tags": []
   },
   "outputs": [],
   "source": [
    "# Select specific rows and columns with boolean indexing\n",
    "fake_df.iloc[[True, False, True, False, True, True, False, True, False, True, False], [False, True, True, False, True]]"
   ]
  },
  {
   "cell_type": "markdown",
   "id": "5a51deee-fc24-4da5-b4fa-fed0efe6ee36",
   "metadata": {
    "tags": [
     "fr"
    ]
   },
   "source": [
    "### La méthode ``.loc[]`` (Sélection par label)\n",
    "\n",
    "La méthode ``.iloc[]`` peut parfois être utile, mais généralement on utilise la méthode ``.loc[]`` qui est très puissante. Elle permet de sélectionner des données par label ou basées sur des conditions.\n",
    "\n",
    "- Indexation basée sur des labels pour les lignes et les colonnes.\n",
    "- Contrairement à la plupart des indexations en Python 🐍 : l'indexation est **inclusive des deux extrémités** (c'est-à-dire que les *slices* incluent les étiquettes spécifiées).\n",
    "- Vous pouvez utiliser des étiquettes, des *slices*, des listes ou des booléens pour sélectionner des données.\n",
    "- Vous pouvez filtrer en utilisant des conditions."
   ]
  },
  {
   "cell_type": "code",
   "execution_count": null,
   "id": "57e9a9e0-87e2-4127-bce0-c16809e43279",
   "metadata": {
    "tags": []
   },
   "outputs": [],
   "source": [
    "fake_df.loc[0:3, 'fruit']"
   ]
  },
  {
   "cell_type": "code",
   "execution_count": null,
   "id": "3c11aa22-154e-481d-ba4c-2fb912fe9fcd",
   "metadata": {
    "tags": []
   },
   "outputs": [],
   "source": [
    "fake_df.loc[1:2, ['fruit', 'date']]"
   ]
  },
  {
   "cell_type": "code",
   "execution_count": null,
   "id": "d16a0141-fe09-422d-ba37-3361e893c061",
   "metadata": {
    "tags": []
   },
   "outputs": [],
   "source": [
    "# Just like .iloc[], you can filter rows and columns using boolean indexing\n",
    "fake_df.loc[[True, False, True, False, True, True, False, True, False, True, False], [False, True, True, False, True]]"
   ]
  },
  {
   "cell_type": "code",
   "execution_count": null,
   "id": "16ca1d22-e06a-4b77-a559-8e0cf247527c",
   "metadata": {
    "tags": []
   },
   "outputs": [],
   "source": [
    "# Pandas returns a boolean Series when you make comparison\n",
    "fake_df['value'] > 500"
   ]
  },
  {
   "cell_type": "code",
   "execution_count": null,
   "id": "88b9da22-2c05-497b-b52d-dddf00b5de81",
   "metadata": {
    "tags": []
   },
   "outputs": [],
   "source": [
    "# You can use this boolean Series to filter your DataFrame using .loc[]\n",
    "fake_df.loc[fake_df['value'] > 500]"
   ]
  },
  {
   "cell_type": "markdown",
   "id": "f734988e-f337-4d40-a881-2f9ff3218c34",
   "metadata": {
    "tags": [
     "fr"
    ]
   },
   "source": [
    "## Filtre sur la Population\n",
    "\n",
    "❓ **>>>** Utilisez ```.loc[]``` et ```.plot()``` pour :\n",
    "\n",
    "- Afficher une Series avec les noms des pays dont la population est supérieure à 60 millions.\n",
    "- Générer un nouveau graphique avec le nom des pays en x et leur population en y."
   ]
  },
  {
   "cell_type": "code",
   "execution_count": null,
   "id": "a25e1fd1-f740-4fde-a4d1-f4953e3e0f3c",
   "metadata": {},
   "outputs": [],
   "source": [
    "# Code here!\n"
   ]
  },
  {
   "cell_type": "code",
   "execution_count": null,
   "id": "18bad50b-4aa1-4cd6-baa8-9c7650d5151c",
   "metadata": {},
   "outputs": [],
   "source": [
    "# Code here!"
   ]
  },
  {
   "cell_type": "markdown",
   "id": "97d12276-3fe1-460d-998d-8090a4b7de01",
   "metadata": {
    "tags": [
     "fr"
    ]
   },
   "source": [
    "# Utiliser ```.loc[]``` avec plusieurs conditions.\n",
    "\n",
    "Il est tout à fait possible d'ajouter plusieurs conditions dans un ```.loc[]```, en ce cas on va devoir utiliser les opérateurs \"element-wise\" ```&``` et ```|``` au lieu de ```and``` et ```or``` afin de comparer élément par élément. Assurez-vous que chaque expression soit bien encadrée par des parenthèses."
   ]
  },
  {
   "cell_type": "code",
   "execution_count": null,
   "id": "d9bc472c-5810-4cdb-8671-3213525b86a3",
   "metadata": {
    "tags": []
   },
   "outputs": [],
   "source": [
    "# yields an error !\n",
    "#fake_df.loc[(fake_df['letter'] == 'D') and (fake_df['value'] > 500)]"
   ]
  },
  {
   "cell_type": "code",
   "execution_count": null,
   "id": "f0ade0ef-d4d7-4ebe-84ed-38e8327059f7",
   "metadata": {
    "tags": []
   },
   "outputs": [],
   "source": [
    "# works with the element-wise operator '&'\n",
    "fake_df.loc[(fake_df['letter'] == 'D') & (fake_df['value'] > 500)]"
   ]
  },
  {
   "cell_type": "code",
   "execution_count": null,
   "id": "7a32112d-1a0d-4c73-9b1e-e2f73e5768e3",
   "metadata": {},
   "outputs": [],
   "source": [
    "# yields an error !\n",
    "#fake_df.loc[(fake_df['letter'] == 'D') or (fake_df['value'] > 500)]"
   ]
  },
  {
   "cell_type": "code",
   "execution_count": null,
   "id": "e118448d-31f0-4715-9705-4ce0ad542b7e",
   "metadata": {
    "tags": []
   },
   "outputs": [],
   "source": [
    "# works with the element-wise operator '|'\n",
    "fake_df.loc[(fake_df['letter'] == 'D') | (fake_df['value'] > 500)]"
   ]
  },
  {
   "cell_type": "markdown",
   "id": "33f320ed-71a5-465b-ad72-d393e1a14a4a",
   "metadata": {
    "tags": [
     "fr"
    ]
   },
   "source": [
    "❓ **>>>** Utilisez la méthode ```.loc[]``` pour afficher les pays qui possèdent une population plus grande que 100 millions et un PIB par tête supérieur à $25 000."
   ]
  },
  {
   "cell_type": "code",
   "execution_count": null,
   "id": "f6dc5b54-6456-4175-a45b-eeaba189b6ce",
   "metadata": {},
   "outputs": [],
   "source": [
    "# Code here!\n"
   ]
  },
  {
   "cell_type": "markdown",
   "id": "dc43dc42-8e89-4581-8fd7-d638d2c507de",
   "metadata": {
    "tags": [
     "fr"
    ]
   },
   "source": [
    "### Représentation graphique de variables textuelles (textes, catégories...)\n",
    "\n",
    "Si on essaye de générer un graphique à partir de données textuelles, Pandas 🐼 retourne une erreur."
   ]
  },
  {
   "cell_type": "code",
   "execution_count": null,
   "id": "c214dc31-d092-4646-93b7-74022480535e",
   "metadata": {
    "tags": []
   },
   "outputs": [],
   "source": [
    "# Yields an error!\n",
    "#df['region'].plot()"
   ]
  },
  {
   "cell_type": "markdown",
   "id": "55ae9c8c-c31d-4b11-8333-d42f952524e0",
   "metadata": {
    "tags": [
     "fr"
    ]
   },
   "source": [
    "### La méthode ``value_counts()``\n",
    "\n",
    "Cette méthode peut être appliquée sur presque n'importe quel type de Series et renvoie une nouvelle Series qui affiche le nombre d'occurrences de chaque élément."
   ]
  },
  {
   "cell_type": "code",
   "execution_count": null,
   "id": "38a5d18a-5fcf-4546-b77a-a0321edf758a",
   "metadata": {
    "tags": []
   },
   "outputs": [],
   "source": [
    "fake_df['letter'].value_counts()"
   ]
  },
  {
   "cell_type": "markdown",
   "id": "ddf66603-d963-4630-bd83-473c9dad2017",
   "metadata": {
    "tags": [
     "fr"
    ]
   },
   "source": [
    "## La Series \"region\""
   ]
  },
  {
   "cell_type": "code",
   "execution_count": null,
   "id": "73cae2df-f2a5-4e76-b041-beaf19ff121f",
   "metadata": {
    "tags": []
   },
   "outputs": [],
   "source": [
    "df['region']"
   ]
  },
  {
   "cell_type": "markdown",
   "id": "cebbb59f-22d1-448d-8fc5-54926f3f58aa",
   "metadata": {
    "tags": [
     "fr"
    ]
   },
   "source": [
    "❓ **>>>** Utilisez la méthode ```.value_counts()``` pour afficher la liste des différentes régions et leur nombre d'occurrences.\n",
    "\n",
    "❓ **>>>** Puis générez un graphique qui indique la fréquence de chaque région avec la méthode ```.plot()```. N'oubliez pas d'utiliser le paramètre \"kind\" pour trouver un graphique adapté à votre objectif."
   ]
  },
  {
   "cell_type": "code",
   "execution_count": null,
   "id": "aeb0622c-0a33-44cf-8b76-3db072e1e46c",
   "metadata": {
    "tags": []
   },
   "outputs": [],
   "source": [
    "# Code here!\n"
   ]
  },
  {
   "cell_type": "code",
   "execution_count": null,
   "id": "a1fe2f25-0209-410f-b7f6-3f6e40a926a3",
   "metadata": {},
   "outputs": [],
   "source": [
    "# Code here!\n"
   ]
  },
  {
   "cell_type": "markdown",
   "id": "ec64d242-7b87-4ec9-9435-e8665b63ba50",
   "metadata": {
    "tags": [
     "fr"
    ]
   },
   "source": [
    "## Les méthodes `.unique()` et `.nunique()`\n",
    "\n",
    "- `.unique()`\n",
    "\n",
    "La méthode `.unique()` est utilisée pour retourner une liste de toutes les valeurs uniques présentes dans une Series.\n",
    "\n",
    "- `.nunique()`\n",
    "\n",
    "La méthode `.nunique()` est utilisée pour compter le nombre de valeurs distinctes (uniques) dans une Series."
   ]
  },
  {
   "cell_type": "code",
   "execution_count": null,
   "id": "064032cc-61bf-4043-b0aa-ee90d61d46bf",
   "metadata": {
    "tags": []
   },
   "outputs": [],
   "source": [
    "fake_df['letter'].unique()"
   ]
  },
  {
   "cell_type": "code",
   "execution_count": null,
   "id": "ed42e7e9-a481-4929-8a13-638abecc5f4e",
   "metadata": {
    "tags": []
   },
   "outputs": [],
   "source": [
    "fake_df['letter'].nunique()"
   ]
  },
  {
   "cell_type": "markdown",
   "id": "dba43a24-33cb-4bba-83d4-d4ba4e67ee90",
   "metadata": {
    "tags": [
     "fr"
    ]
   },
   "source": [
    "### Combien de valeurs uniques dans \"region\" ?\n",
    "\n",
    "❓ **>>>** Utilisez ```unique()``` et ```.nunique()``` pour afficher les valeurs uniques et le nombre de valeurs uniques de la Series \"region\"."
   ]
  },
  {
   "cell_type": "code",
   "execution_count": null,
   "id": "19da0011-7b94-4f36-ab30-5db3fa01048b",
   "metadata": {
    "tags": []
   },
   "outputs": [],
   "source": [
    "# Code here!\n"
   ]
  },
  {
   "cell_type": "code",
   "execution_count": null,
   "id": "755d5555-ff31-47a3-b6e5-4a977792d605",
   "metadata": {
    "tags": []
   },
   "outputs": [],
   "source": [
    "# Code here!\n"
   ]
  },
  {
   "cell_type": "markdown",
   "id": "f47877c4-8eee-4086-8a74-4f72cca60ab6",
   "metadata": {
    "tags": [
     "fr"
    ]
   },
   "source": [
    "## Manipulation de chaînes de caractères\n",
    "\n",
    "Comme vous pouvez le constater, les noms des régions semblent comporter beaucoup d'espaces inutiles. Pandas 🐼 fournit de nombreuses fonctions pour travailler avec des chaînes de caractères. Elles se trouvent dans un sous-module appelé `.str`. Par exemple :"
   ]
  },
  {
   "cell_type": "code",
   "execution_count": null,
   "id": "ae70196c-4f89-4140-b3de-6f06c8f706e8",
   "metadata": {
    "tags": []
   },
   "outputs": [],
   "source": [
    "fake_df['letter'].str.lower()"
   ]
  },
  {
   "cell_type": "code",
   "execution_count": null,
   "id": "96e4e9ab-f272-401b-b74f-3f710b4fbab6",
   "metadata": {
    "tags": []
   },
   "outputs": [],
   "source": [
    "fake_df['letter'].str.replace(\"D\", \"ZZZ\")"
   ]
  },
  {
   "cell_type": "markdown",
   "id": "7805d535-f101-456b-ac79-b6637f9257d2",
   "metadata": {
    "tags": [
     "fr"
    ]
   },
   "source": [
    "## Correction des chaînes de caractères dans la Series \"region\"\n",
    "\n",
    "❓ **>>>** Retirez les espaces inutiles des noms des régions avec la méthode ```.str.strip()```. Lorsque c'est fait, remplacez l'ancienne Series par la nouvelle et affichez à nouveau le dernier graphique."
   ]
  },
  {
   "cell_type": "code",
   "execution_count": null,
   "id": "ca1c49ad-3c75-44f4-8b3b-6442d98a40cc",
   "metadata": {},
   "outputs": [],
   "source": [
    "# Code here!\n"
   ]
  },
  {
   "cell_type": "code",
   "execution_count": null,
   "id": "3205de6c-8b45-4086-bacd-bc33f7dcedac",
   "metadata": {
    "tags": []
   },
   "outputs": [],
   "source": [
    "df.columns"
   ]
  },
  {
   "cell_type": "markdown",
   "id": "ecca3a31-ee6c-4d0b-b2cf-b627c73081f8",
   "metadata": {
    "tags": [
     "fr"
    ]
   },
   "source": [
    "# Group By et Agrégations\n",
    "\n",
    "## Group By\n",
    "\n",
    "En science des données, un \"Groupby\" est une opération qui consiste à diviser un ensemble de données en différents groupes en fonction d'un ou plusieurs critères.\n",
    "\n",
    "Une fois les données séparées en différents groupes, on applique généralement une ou plusieurs fonctions à chacun de ces groupes.\n",
    "\n",
    "## Agrégations\n",
    "\n",
    "Quand on parle \"d'agrégations\", on fait référence aux fonctions mathématiques ou statistiques qu'on applique à ces groupes. Ce sont souvent des fonctions communes telles que la somme, la moyenne, la médiane, le compte (*count*), le minimum, le maximum, etc.\n",
    "\n",
    "Les agrégations sont utilisées pour résumer et condenser des données.\n",
    "\n",
    "## Exemples\n",
    "\n",
    "Imaginons que nous ayons une bibliothèque avec plusieurs livres classés par genre. Nous pouvons les regrouper et appliquer la fonction `.sum()` pour vérifier combien de livres nous avons pour chaque catégorie différente.\n",
    "\n",
    "<img src=\"files/group_by-sum.jpg\" width=\"90%\" align=\"center\">\n",
    "\n",
    "Mais nous pourrions également appliquer la fonction `.mean()` pour calculer la moyenne.\n",
    "\n",
    "<img src=\"files/group_by-avg.jpg\" width=\"100%\" align=\"center\">\n",
    "\n",
    "[Source](https://learnsql.com/blog/group-by-in-sql-explained/)"
   ]
  },
  {
   "cell_type": "markdown",
   "id": "0c38c1d2-9c48-4829-938a-16cae961c91c",
   "metadata": {
    "tags": [
     "fr"
    ]
   },
   "source": [
    "## Application d'un GROUP BY\n",
    "\n",
    "### GROUP BY sans aggrégation\n",
    "\n",
    "Nous pouvons créer des objets groupby sans appliquer de fonction et les sauvegarder pour une utilisation ultérieure.\n",
    "\n",
    "**Note**: Nous utilisons le paramètre ```observed=True``` car le dtype de cette série est catégorie."
   ]
  },
  {
   "cell_type": "code",
   "execution_count": null,
   "id": "e79ea7e4-1021-49d7-8ba2-ebed273cbdbd",
   "metadata": {
    "tags": []
   },
   "outputs": [],
   "source": [
    "fake_df.groupby('letter', observed=True) # Data have been grouped by Letter"
   ]
  },
  {
   "cell_type": "markdown",
   "id": "6287abeb-655a-4cb0-9b2c-eb841e05fe82",
   "metadata": {
    "tags": [
     "fr"
    ]
   },
   "source": [
    "### Fonctions basiques"
   ]
  },
  {
   "cell_type": "markdown",
   "id": "f6f03181-d683-4beb-b568-071f142271af",
   "metadata": {},
   "source": [
    "#### ``.sum()``"
   ]
  },
  {
   "cell_type": "code",
   "execution_count": null,
   "id": "86a09f50-e8c3-4478-96ee-f859ae5ef807",
   "metadata": {
    "tags": []
   },
   "outputs": [],
   "source": [
    "fake_df.groupby('letter', observed=True).sum('value')"
   ]
  },
  {
   "cell_type": "markdown",
   "id": "591edab5-d235-42cc-a378-6b420facfda1",
   "metadata": {
    "tags": []
   },
   "source": [
    "#### ``.count()``"
   ]
  },
  {
   "cell_type": "code",
   "execution_count": null,
   "id": "ab19cf5d-7b2d-4b7e-9292-7fa95b265b6c",
   "metadata": {
    "tags": []
   },
   "outputs": [],
   "source": [
    "fake_df.groupby('letter', observed=True).count()"
   ]
  },
  {
   "cell_type": "markdown",
   "id": "7c71a2a2-70b4-4c90-97b0-ccb2ff0aea55",
   "metadata": {},
   "source": [
    "#### ``.mean()``"
   ]
  },
  {
   "cell_type": "code",
   "execution_count": null,
   "id": "9ee6044c-c974-440f-a5b6-b703930cc35e",
   "metadata": {
    "tags": []
   },
   "outputs": [],
   "source": [
    "fake_df.groupby('letter', observed=True).mean('value')"
   ]
  },
  {
   "cell_type": "markdown",
   "id": "30995edb-15a2-4666-a16a-15ed055e39a0",
   "metadata": {
    "tags": [
     "fr"
    ]
   },
   "source": [
    "### La méthode ``.agg()``\n",
    "\n",
    "La méthode ```.agg()``` dans Pandas 🐼 est utilisée pour effectuer des opérations d'agrégation sur un DataFrame ou une Series.\n",
    "\n",
    "Nous pouvons spécifier une ou plusieurs fonctions d'agrégation que nous souhaitons appliquer aux données. Ces fonctions peuvent être des fonctions *built-in* telles que ```sum()```, ```mean()```, ```min()```, ```max()```, ou des fonctions personnalisées.\n",
    "\n",
    "Elle peut prendre des arguments sous forme de strings, de listes ou même de dictionnaires."
   ]
  },
  {
   "cell_type": "markdown",
   "id": "1ddbbc56-e5d5-4c72-a765-3730bcefa02f",
   "metadata": {
    "tags": [
     "fr"
    ]
   },
   "source": [
    "#### ``.agg()`` avec une seule fonction"
   ]
  },
  {
   "cell_type": "code",
   "execution_count": null,
   "id": "36a11aa2-1023-4eb8-8b25-53fd196a1c6c",
   "metadata": {
    "tags": []
   },
   "outputs": [],
   "source": [
    "fake_df.groupby('letter', observed=True).agg('mean', numeric_only=True)"
   ]
  },
  {
   "cell_type": "markdown",
   "id": "f1800478-a2a0-4c32-93a4-93ad4af73700",
   "metadata": {
    "tags": [
     "fr"
    ]
   },
   "source": [
    "#### ``.agg()`` avec plusieurs fonctions.\n",
    "\n",
    "Ici nous ne prenons que la colonne \"value\" depuis les données groupées, et nous appliquons trois fonctions différentes dessus."
   ]
  },
  {
   "cell_type": "code",
   "execution_count": null,
   "id": "666205ad-a1cb-45e1-a818-23b25878d479",
   "metadata": {
    "tags": []
   },
   "outputs": [],
   "source": [
    "fake_df.groupby('letter', observed=True)['value'].agg(['count', 'sum', 'mean'])"
   ]
  },
  {
   "cell_type": "markdown",
   "id": "21b24ee1-e38a-4b77-bb72-c95dc3b4fb3b",
   "metadata": {
    "tags": [
     "fr"
    ]
   },
   "source": [
    "#### ```.agg()``` avec un ditcionnaire d'arguments.\n",
    "\n",
    "Passer un dictionnaire d'argument est sans doute **la meilleure méthode**, elle permet un excellent contrôle sur le comportement des aggrégations."
   ]
  },
  {
   "cell_type": "code",
   "execution_count": null,
   "id": "557ae342-4184-44ac-9110-b2659df2c5ac",
   "metadata": {
    "tags": []
   },
   "outputs": [],
   "source": [
    "fake_df.groupby('letter', observed=True).agg({\n",
    "        'value' : ['mean','median', 'max', 'min'],\n",
    "        'fruit':  ['count']})"
   ]
  },
  {
   "cell_type": "markdown",
   "id": "8be98132-b68b-4ab0-a513-d6c342327720",
   "metadata": {
    "tags": [
     "fr"
    ]
   },
   "source": [
    "## Calcul de nouvelles statistiques\n",
    "\n",
    "❓ **>>>** Examinons la population totale de chaque région. Utilisez pour cela un groupby et la fonction ```.agg()``` avec l'argument 'sum'.\n",
    "\n",
    "**Note**: Vous pouvez utiliser la fonction ```.sort_values()``` sur un DataFrame ou une Series pour classer le résultat. Lisez-la docstring si vous désirez en savoir davantage !"
   ]
  },
  {
   "cell_type": "code",
   "execution_count": null,
   "id": "7d975e77-01a4-4415-a2c1-939b74195744",
   "metadata": {},
   "outputs": [],
   "source": [
    "# Code here\n"
   ]
  },
  {
   "cell_type": "markdown",
   "id": "a1b28981-2a64-40e6-b96f-49b4ea780066",
   "metadata": {
    "tags": [
     "fr"
    ]
   },
   "source": [
    "# Jointures\n",
    "\n",
    "Les jointures permettent de récupérer des données depuis d'autres sources, et de les ajouter à notre jeu de données existant."
   ]
  },
  {
   "cell_type": "markdown",
   "id": "18eff4af-e234-4b7a-aed1-63c51d5226ac",
   "metadata": {},
   "source": [
    "<img src=\"files/left-outer-join-operation.png\" width=\"50%\" align=\"center\">"
   ]
  },
  {
   "cell_type": "code",
   "execution_count": null,
   "id": "e16ad7dd-e9fd-483a-9ba6-b31bb364a208",
   "metadata": {
    "tags": []
   },
   "outputs": [],
   "source": [
    "fruits_df = pd.read_csv(\"data/fruits_kcal.csv\")"
   ]
  },
  {
   "cell_type": "code",
   "execution_count": null,
   "id": "ab09a466-e554-4c91-abdc-2a38c64937b4",
   "metadata": {
    "tags": []
   },
   "outputs": [],
   "source": [
    "fruits_df.head(2)"
   ]
  },
  {
   "cell_type": "code",
   "execution_count": null,
   "id": "d383c921-0448-4a1d-9155-70c8b5d1a215",
   "metadata": {
    "tags": []
   },
   "outputs": [],
   "source": [
    "fake_df.merge(fruits_df, left_on=\"fruit\", right_on=\"name\", how='left')\n",
    "# alternate syntax:\n",
    "#pd.merge(fake_df, fruits_df, left_on=\"fruit\", right_on=\"name\", how='left')"
   ]
  },
  {
   "cell_type": "code",
   "execution_count": null,
   "id": "f87da085-7072-4864-bf5e-83baaf90ed93",
   "metadata": {
    "tags": []
   },
   "outputs": [],
   "source": [
    "# If we want to take only a specific column, and not the entire second df\n",
    "fake_df.merge(fruits_df[\"calories (per 100g)\"], left_on=\"fruit\", right_on=fruits_df[\"name\"], how='left')"
   ]
  },
  {
   "cell_type": "markdown",
   "id": "dd8a2c54-dd17-40ec-b6b7-68866877ea47",
   "metadata": {
    "tags": [
     "fr"
    ]
   },
   "source": [
    "## Ajout de la date d'entrée aux Nations Unis\n",
    "\n",
    "### Création d'un nouveau dataframe\n",
    "\n",
    "Certains pays sont membres de l'ONU, d'autres non. Récupérons un jeu de données directement depuis wikipedia et effectuons une jointure.\n",
    "\n",
    "❓ **>>>** Examinez la page https://en.wikipedia.org/wiki/Member_states_of_the_United_Nations.\n",
    "\n",
    "❓ **>>>** Utilisez la fonction ```pd.read_html()``` pour charger le tableau dans un dataframe nommé \"un_df\". Attention car cette fonction va retourner une liste de DataFrames, et pas un seul DataFrame. Vous aurez aussi peut-être besoin d'installer la librairie \"lxml\", dans ce cas là allez dans le terminal et effectuez un ```pip install lxml```."
   ]
  },
  {
   "cell_type": "code",
   "execution_count": null,
   "id": "bf6ea10a-a076-4899-8119-b1974cda98b6",
   "metadata": {},
   "outputs": [],
   "source": [
    "# Code here\n"
   ]
  },
  {
   "cell_type": "markdown",
   "id": "8f12905e-b033-4e49-9ff6-88ba6379b0e9",
   "metadata": {
    "tags": [
     "fr"
    ]
   },
   "source": [
    "## La fonction `.str.split()`\n",
    "\n",
    "Cette fonction appartient au sous-module `.str`. Elle se comporte presque de la même manière que la fonction `.split()`. Le paramètre ```expand``` est souvent très utile, il permet de séparer les éléments en de nouvelles Series."
   ]
  },
  {
   "cell_type": "code",
   "execution_count": null,
   "id": "ff09118c-3892-4792-a2b7-1ab7a8d68bd9",
   "metadata": {
    "tags": []
   },
   "outputs": [],
   "source": [
    "fake_df['numbers_list'].str.split()"
   ]
  },
  {
   "cell_type": "code",
   "execution_count": null,
   "id": "6176a415-734f-40a9-8ac0-b684db47da74",
   "metadata": {
    "tags": []
   },
   "outputs": [],
   "source": [
    "fake_df['numbers_list'].str.split()[0][0]"
   ]
  },
  {
   "cell_type": "code",
   "execution_count": null,
   "id": "3bcb60d1-7073-4b25-89d6-dd06f9ac66de",
   "metadata": {
    "tags": []
   },
   "outputs": [],
   "source": [
    "fake_df['numbers_list'].str.split('-')[0][0]"
   ]
  },
  {
   "cell_type": "code",
   "execution_count": null,
   "id": "35f562d6-c5a2-4b94-86c1-9b2a33fe77f6",
   "metadata": {
    "tags": []
   },
   "outputs": [],
   "source": [
    "fake_df['numbers_list'].str.split('-', expand=True)"
   ]
  },
  {
   "cell_type": "code",
   "execution_count": null,
   "id": "44cd29c2-80a4-433c-8a6c-c5d6b16835dc",
   "metadata": {
    "tags": []
   },
   "outputs": [],
   "source": [
    "fake_df['numbers_list'].str.split('-', expand=True)[0]"
   ]
  },
  {
   "cell_type": "markdown",
   "id": "4de55dd8-2373-4d53-bcd3-8638c341e649",
   "metadata": {
    "tags": [
     "fr"
    ]
   },
   "source": [
    "### Nettoyage de \"Member state\" et \"Date of admission\"\n",
    "\n",
    "Les colonnes \"Member state\" et \"Date of admission\" possèdent des valeurs mal formatées. Pouvez-vous les repérer ?\n",
    "\n",
    "❓ **>>>** Utilisez la méthode ```.str.split()``` (et son paramètre ```expand```) pour nettoyer cette Series.\n",
    "\n",
    "**Note**: N'oubliez pas d'appliquer cette fonction à la fois sur \"Member state\" et \"Date of admission\"."
   ]
  },
  {
   "cell_type": "code",
   "execution_count": null,
   "id": "48f40e98-ad7b-44f3-bfbc-02645e02fb8b",
   "metadata": {
    "tags": []
   },
   "outputs": [],
   "source": [
    "# Code here\n"
   ]
  },
  {
   "cell_type": "markdown",
   "id": "5c93db8b-57a7-4e33-902a-474a4f97c783",
   "metadata": {
    "tags": [
     "fr"
    ]
   },
   "source": [
    "## La méthode `.map()`\n",
    "\n",
    "La méthode `.map()` dans Pandas 🐼 est utilisée pour appliquer une fonction sur une Series. Le résultat est une nouvelle Series avec les valeurs transformées par la fonction."
   ]
  },
  {
   "cell_type": "code",
   "execution_count": null,
   "id": "346f1e10-fa46-47b4-afd5-21d8ac71883e",
   "metadata": {
    "tags": []
   },
   "outputs": [],
   "source": [
    "# Let's define a function\n",
    "def adds_1000(number):\n",
    "    return number + 1000"
   ]
  },
  {
   "cell_type": "code",
   "execution_count": null,
   "id": "7d4131ee-df38-4bbf-a6e4-9c83ad1bdc9b",
   "metadata": {
    "tags": []
   },
   "outputs": [],
   "source": [
    "# Test\n",
    "adds_1000(123.53)"
   ]
  },
  {
   "cell_type": "code",
   "execution_count": null,
   "id": "8ac786f2-da13-41f9-ae90-55cf4518b66e",
   "metadata": {
    "tags": []
   },
   "outputs": [],
   "source": [
    "fake_df['value'].map(adds_1000)"
   ]
  },
  {
   "cell_type": "markdown",
   "id": "d5e8a62d-5ff7-4b3d-8ea7-a73cdfdc4ed4",
   "metadata": {
    "tags": [
     "fr"
    ]
   },
   "source": [
    "## Recréation de la Series \"Original member\"\n",
    "\n",
    "Cette Series est vide car elle comportait des images dans wikipedia. Or nous savons que tous les pays qui sont des membres originaux ont adhéré en 1945.\n",
    "\n",
    "❓ **>>>** Créez une fonction ```.map()``` qui :\n",
    "\n",
    "- Prend en entrée une string (la date) que nous appellerons \"s\".\n",
    "- Retournera ```True``` si cette string indique que le pays a adhéré en 1945 et ```False``` s'il a adhéré à un autre moment.\n",
    "\n",
    "Puis appliquez votre fonction sur la Series \"Date of admission\" mais stockez le résultat dans la Series \"Original member\"."
   ]
  },
  {
   "cell_type": "code",
   "execution_count": null,
   "id": "9ae8c733-9c70-4c75-a044-582b2d5dfab5",
   "metadata": {
    "tags": []
   },
   "outputs": [],
   "source": [
    "# Code here !\n",
    "\n",
    "def is_original_member(s):\n",
    "    \n",
    "    pass # delete the pass and write your function\n"
   ]
  },
  {
   "cell_type": "markdown",
   "id": "5969d822-b65b-4c29-b881-2633d3fba564",
   "metadata": {
    "tags": [
     "fr"
    ]
   },
   "source": [
    "### Nettoyage de \"country\"\n",
    "\n",
    "❓ **>>>** Dans la colonne \"Country\" il y a encore des noms de pays qui possèdent des espaces en trop. Utilisez ```str.strip()``` pour les retirer. "
   ]
  },
  {
   "cell_type": "code",
   "execution_count": null,
   "id": "b2e67f4e-0945-4927-9658-748594a9971d",
   "metadata": {},
   "outputs": [],
   "source": [
    "# Code here!\n"
   ]
  },
  {
   "cell_type": "raw",
   "id": "ce39b359-8b75-4735-8d09-0bdf52f816bd",
   "metadata": {
    "tags": []
   },
   "source": [
    "# Checkpoint 2\n",
    "d = {'country': 'string', 'region': 'category'}\n",
    "df = pd.read_csv('data/df_checkpoint_2.csv', dtype=d)\n",
    "un_df = pd.read_csv('data/un_df_checkpoint_2.csv')"
   ]
  },
  {
   "cell_type": "markdown",
   "id": "78a4320b-0751-4db4-805e-a86fa939eecb",
   "metadata": {
    "tags": [
     "fr"
    ]
   },
   "source": [
    "### Jointure\n",
    "\n",
    "❓ **>>>** Désormais effectuez la jointure entre \"df\" et \"un_df\" afin de récupérer les valeurs de la colonne \"Date of admission\"."
   ]
  },
  {
   "cell_type": "code",
   "execution_count": null,
   "id": "b0dd0f3b-d502-4172-a257-ab4ded5146ce",
   "metadata": {},
   "outputs": [],
   "source": [
    "# Code here!\n"
   ]
  },
  {
   "cell_type": "markdown",
   "id": "4e5d278e-76e5-4013-b200-6f31766bb7e2",
   "metadata": {
    "tags": [
     "fr"
    ]
   },
   "source": [
    "### Format de date\n",
    "\n",
    "Nos \"df\" et \"fake_df\" contiennent tous deux des dates. Cependant, si vous y jetez un coup d'œil, ce ne sont que des chaînes de caractères, pas encore des dates. Pandas 🐼 peut les convertir en objets \"datetime\", ce qui permettra de les représenter graphiquement et d'effectuer des opérations dessus.\n",
    "\n",
    "Pour ce faire, nous pouvons utiliser la fonction ``pd.to_datetime()``, qui convertira nos chaînes de caractères au bon format. Parfois, Pandas 🐼 sera capable d'inférer automatiquement le format de la date. Mais dans ce cas, les chaînes ne sont pas standard, nous devons donc passer un *strftime* (format de chaîne de temps) au paramètre \"format\" pour indiquer à Python 🐍 quel est le format de la date.\n",
    "\n",
    "Chaque % suivi d'une lettre signifie que Python 🐍 va le remplacer par les éléments qu'il trouve. La lettre suivante qui suit le \"%\" est un code, le reste n'est que des caractères qui seront effacés lors de la conversion au format datetime."
   ]
  },
  {
   "cell_type": "code",
   "execution_count": null,
   "id": "674139db-c83a-400e-abb6-6b69efa530ba",
   "metadata": {
    "tags": []
   },
   "outputs": [],
   "source": [
    "pd.to_datetime(fake_df['date'], format='%Hh:%Mm:%Ss %d-%b-%Y')"
   ]
  },
  {
   "cell_type": "code",
   "execution_count": null,
   "id": "0ff993a2-f00b-4a0a-ac31-15b504cc433d",
   "metadata": {
    "tags": []
   },
   "outputs": [],
   "source": [
    "# Once we're happy with the result, let's create a new Series\n",
    "# that will contain the date in the right format\n",
    "fake_df['date'] = pd.to_datetime(fake_df['date'], format='%Hh:%Mm:%Ss %d-%b-%Y')"
   ]
  },
  {
   "cell_type": "code",
   "execution_count": null,
   "id": "cb025ab2-2fec-448a-96de-66bd76f75022",
   "metadata": {
    "tags": []
   },
   "outputs": [],
   "source": [
    "# We can now perform operations on this Series\n",
    "fake_df['date'].mean()"
   ]
  },
  {
   "cell_type": "markdown",
   "id": "0ebf5637-970d-4272-aeb5-6eaa1f5e1879",
   "metadata": {
    "tags": [
     "fr"
    ]
   },
   "source": [
    "## La *Series* \"Date of admission\"\n",
    "\n",
    "❓ **>>>** Changez le type de la *Series* \"Date of admission\" en utilisant la fonction `pd.to_datetime()`.\n",
    "\n",
    "❓ **>>>** Ensuite, trouvez la valeur minimale, la valeur maximale et la moyenne de la Series \"Date of admission\" que nous venons de créer."
   ]
  },
  {
   "cell_type": "code",
   "execution_count": null,
   "id": "55f874fa-8ef0-411b-9974-7231fa830a34",
   "metadata": {
    "tags": []
   },
   "outputs": [],
   "source": [
    "# Code here!\n"
   ]
  },
  {
   "cell_type": "code",
   "execution_count": null,
   "id": "7d150ed3-bd81-44b2-bda8-954b84e2b1cf",
   "metadata": {},
   "outputs": [],
   "source": [
    "# Display the min:\n",
    "# Code here!\n"
   ]
  },
  {
   "cell_type": "code",
   "execution_count": null,
   "id": "3c74e47a-67ae-4779-9021-d33e02238261",
   "metadata": {},
   "outputs": [],
   "source": [
    "# Display the max:\n",
    "# Code here!\n"
   ]
  },
  {
   "cell_type": "code",
   "execution_count": null,
   "id": "b33729ba-e9c6-4be5-9dfe-dcfd9600321c",
   "metadata": {
    "tags": []
   },
   "outputs": [],
   "source": [
    "# Display the mean:\n",
    "# Code here!"
   ]
  },
  {
   "cell_type": "markdown",
   "id": "b89eb781-e02c-41c5-898c-4f8a3c8226bd",
   "metadata": {
    "tags": [
     "fr"
    ]
   },
   "source": [
    "## Nombre de jours écoulés depuis l'adhésion à l'ONU\n",
    "\n",
    "Certains pays ont adhéré à l'ONU il y a longtemps, d'autres assez récemment et certains pas du tout. Calculons la durée de leur adhésion.\n",
    "\n",
    "Pour créer une date en Pandas 🐼, on peut utiliser la fonction ```pd.to_datetime()``` et lui donner comme argument une string de la date, n'hésitez pas à faire des essais !\n",
    "\n",
    "❓ **>>>** Pour calculer ces nouvelles valeurs:\n",
    "\n",
    "- Créez une nouvelle Series appelée \"Membership duration (days)\" et qui contiendra pour chaque pays la durée en nombre de jours entre la date de leur adhésion et le 1er janvier 2024. Vous pouvez convertir une Series de type en ajoutant ```.dt.days``` pour extraire le nombre de jours.\n",
    "\n",
    "- Puis remplacez les valeurs manquantes par 0 à l'aide de la fonction ```fill_na()```, enfin convertissez le tout en 'int32' à l'aide de la fonction ```astype()```."
   ]
  },
  {
   "cell_type": "code",
   "execution_count": null,
   "id": "56ab789c-e2eb-4341-b0e0-266425770868",
   "metadata": {
    "tags": []
   },
   "outputs": [],
   "source": [
    "# Code here!\n"
   ]
  },
  {
   "cell_type": "raw",
   "id": "b0d586ff-5d35-4a6e-bbd9-68225a4f4beb",
   "metadata": {
    "tags": []
   },
   "source": [
    "# Checkpoint 3\n",
    "d = {'country': 'string', 'region': 'category'}\n",
    "df = pd.read_csv('data/df_checkpoint_3.csv', dtype=d)\n",
    "un_df = pd.read_csv('data/un_df_checkpoint_3.csv')"
   ]
  },
  {
   "cell_type": "markdown",
   "id": "5afa848d-7648-4f6e-a296-a50def31c25b",
   "metadata": {
    "tags": [
     "fr"
    ]
   },
   "source": [
    "# Correlation\n",
    "\n",
    "Pandas 🐼 fournit beaucoup d'outils pour calculer des statistiques et des corrélations.\n",
    "\n",
    "## La méthode ```.corr()```\n",
    "\n",
    "[Par défaut](https://pandas.pydata.org/docs/reference/api/pandas.DataFrame.corr.html) la méthode ```.corr()``` utilise la corrélation de [Pearson](https://en.wikipedia.org/wiki/Pearson_correlation_coefficient). Si on l'applique directement sur le dataframe nos colonnes qui contiennent des données autres que numériques font que la fonction renverra une erreur. On peut passer ```True``` au paramètre \"numeric_only\" pour régler ce problème."
   ]
  },
  {
   "cell_type": "code",
   "execution_count": null,
   "id": "55b0df5e-2598-4110-abef-f03bcd5d46c5",
   "metadata": {
    "tags": []
   },
   "outputs": [],
   "source": [
    "fake_df['random_values'] = np.random.random(fake_df.shape[0]) # Let's create a Series with random values\n",
    "fake_df.corr(numeric_only=True)"
   ]
  },
  {
   "cell_type": "markdown",
   "id": "ba1120c7-7792-47cc-b476-26c3e68f4a43",
   "metadata": {
    "tags": [
     "fr"
    ]
   },
   "source": [
    "❓ **>>>** Affichez les coefficients de correlation entre toutes nos colonnes numériques."
   ]
  },
  {
   "cell_type": "code",
   "execution_count": null,
   "id": "34859403-4d7c-413c-a3d5-f3d23f3a2be0",
   "metadata": {
    "tags": []
   },
   "outputs": [],
   "source": [
    "# Code here"
   ]
  },
  {
   "cell_type": "markdown",
   "id": "2941cd9a-f2a5-4d96-b3ab-c3e77270d8ae",
   "metadata": {
    "tags": [
     "fr"
    ]
   },
   "source": [
    "## Seaborn and heatmap\n",
    "\n",
    "Afin de mieux visualiser les résultats, nous pouvons utiliser Seaborn, une librairie construite par dessus matplotlib."
   ]
  },
  {
   "cell_type": "code",
   "execution_count": null,
   "id": "7c6d2be6-3ec7-4b7a-9cc8-771e3894407c",
   "metadata": {},
   "outputs": [],
   "source": [
    "import seaborn as sns\n",
    "sns.heatmap(fake_df.corr(numeric_only=True));"
   ]
  },
  {
   "cell_type": "code",
   "execution_count": null,
   "id": "9e2be6df-6159-4b1f-bb61-3614a01d39bf",
   "metadata": {},
   "outputs": [],
   "source": [
    "# let's annot the heatmap and make it range from -1 to 1.\n",
    "sns.heatmap(fake_df.corr(numeric_only=True), vmin=-1, vmax=1, annot=True);"
   ]
  },
  {
   "cell_type": "markdown",
   "id": "8af648fe-d2ed-46e2-b56e-4bdc43051806",
   "metadata": {
    "tags": [
     "fr"
    ]
   },
   "source": [
    "❓ **>>>** Affichez la même \"carte de chaleur\" pour le dataframe sur les pays. Puis faites la même chose mais sur le df groupé par région. Utilisez la moyenne comme fonction d'agrégation."
   ]
  },
  {
   "cell_type": "code",
   "execution_count": null,
   "id": "660b07ef-f27d-4c86-b266-91db332979fb",
   "metadata": {
    "tags": []
   },
   "outputs": [],
   "source": [
    "# Code here!"
   ]
  },
  {
   "cell_type": "code",
   "execution_count": null,
   "id": "62b827e2-7daa-4e89-93fa-b82b57152f9b",
   "metadata": {
    "tags": []
   },
   "outputs": [],
   "source": [
    "# Code here!\n"
   ]
  },
  {
   "cell_type": "markdown",
   "id": "31e2f575-36b2-4a3f-a0f7-5dc580eda9db",
   "metadata": {
    "tags": [
     "fr"
    ]
   },
   "source": [
    "# Visualisations de Corrélation\n",
    "\n",
    "Lorsqu'on travaille avec des données, il est toujours judicieux de regarder les données à l'aide de visualisations et pas seulement de chiffres.\n",
    "\n",
    "## Le Quartet d'Anscombe\n",
    "\n",
    "Le quartet d'Anscombe est constitué de quatre ensembles de données qui ont les mêmes propriétés statistiques simples mais qui sont en réalité très différents, ce qui se voit facilement lorsqu'on les représente sous forme de graphiques ([Wikipedia](https://fr.wikipedia.org/wiki/Quartet_d%27Anscombe))"
   ]
  },
  {
   "cell_type": "markdown",
   "id": "849b72e4-1c57-42ba-b23f-1d84ab809cac",
   "metadata": {},
   "source": [
    "<img src=\"files/anscombe.png\" width=\"70%\" align=\"center\">\n",
    "\n",
    "\n",
    "| Property                                                  | Value             | Accuracy                                |\n",
    "|-----------------------------------------------------------|-------------------|-----------------------------------------|\n",
    "| Mean of x:                                                | 9                 | exact                                   |\n",
    "| Sample variance of x:                                     | 11                | exact                                   |\n",
    "| Mean of y:                                                | 7.50              | to 2 decimal places                     |\n",
    "| Sample variance of y:                                     | 4.125             | ±0.003                                  |\n",
    "| Correlation between x and y:                              | 0.816             | to 3 decimal places                     |\n",
    "| Linear regression line:                                   | y = 3.00 + 0.500x | to 2 and 3 decimal places, respectively |\n",
    "| Coefficient of determination of the linear regression: R² | 0.67              | to 2 decimal places                     |"
   ]
  },
  {
   "cell_type": "markdown",
   "id": "5432d517-8b39-4d2c-88f6-37cdac87f05b",
   "metadata": {
    "tags": [
     "fr"
    ]
   },
   "source": [
    "### La fonction `sns.pairplot()`\n",
    "\n",
    "Cette fonction est utilisée pour créer une matrice de graphiques de dispersion, également appelée matrice de graphiques de dispersion par paire. C'est un outil précieux pour visualiser les relations entre plusieurs variables (colonnes ou Series) dans un DataFrame."
   ]
  },
  {
   "cell_type": "code",
   "execution_count": null,
   "id": "e61943a8-7c5e-41e7-a305-2d2e1194af1d",
   "metadata": {},
   "outputs": [],
   "source": [
    "sns.pairplot(fake_df, diag_kind='kde', kind='reg', plot_kws={'line_kws':{'color':'red'}});"
   ]
  },
  {
   "cell_type": "code",
   "execution_count": null,
   "id": "912da2fc-f7ef-423d-a85a-4370cc76bed6",
   "metadata": {},
   "outputs": [],
   "source": [
    "sns.lmplot(x='value',\n",
    "           y='random_values',\n",
    "           data=fake_df,\n",
    "           fit_reg=True,\n",
    "           line_kws={'color': 'red'}\n",
    "          );"
   ]
  },
  {
   "cell_type": "markdown",
   "id": "38e45982-9da6-4c52-bffc-4212aca768c4",
   "metadata": {
    "tags": [
     "fr"
    ]
   },
   "source": [
    "❓ **>>>** Affichez ces mêmes graphiques pour le jeu de données sur les pays. Utilisez les colonnes 'birthrate' et 'gdp ($ per capita)' comme x et y pour la fonction ```sns.lmplot()```."
   ]
  },
  {
   "cell_type": "code",
   "execution_count": null,
   "id": "a9c47d2c-5cac-4574-ba73-296fa6f22211",
   "metadata": {},
   "outputs": [],
   "source": [
    "# Code here!\n"
   ]
  },
  {
   "cell_type": "code",
   "execution_count": null,
   "id": "447ea54c-a406-4197-9491-f9144966790f",
   "metadata": {},
   "outputs": [],
   "source": [
    "# Code here!\n"
   ]
  },
  {
   "cell_type": "markdown",
   "id": "e2cf7787-ed8e-4da1-86bb-67b6e7dd29a0",
   "metadata": {
    "tags": [
     "fr"
    ]
   },
   "source": [
    "## Export\n",
    "\n",
    "🏁 Vous pouvez exporter vos df dans de nombreux formats tels que CSV, Excel, JSON etc. 💾"
   ]
  },
  {
   "cell_type": "code",
   "execution_count": null,
   "id": "00494dec-5dd6-44c8-8f65-80ba25ea16fc",
   "metadata": {
    "tags": []
   },
   "outputs": [],
   "source": [
    "# csv\n",
    "df.to_csv('df_export.csv', index=False)"
   ]
  },
  {
   "cell_type": "code",
   "execution_count": null,
   "id": "1a254b11-fcc9-420e-b75a-210b4772e06e",
   "metadata": {
    "tags": []
   },
   "outputs": [],
   "source": [
    "#json\n",
    "df.to_json('df_export.json')"
   ]
  }
 ],
 "metadata": {
  "kernelspec": {
   "display_name": "Python 3 (ipykernel)",
   "language": "python",
   "name": "python3"
  },
  "language_info": {
   "codemirror_mode": {
    "name": "ipython",
    "version": 3
   },
   "file_extension": ".py",
   "mimetype": "text/x-python",
   "name": "python",
   "nbconvert_exporter": "python",
   "pygments_lexer": "ipython3",
   "version": "3.11.0"
  }
 },
 "nbformat": 4,
 "nbformat_minor": 5
}
